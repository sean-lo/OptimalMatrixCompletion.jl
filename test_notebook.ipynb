{
 "cells": [
  {
   "cell_type": "code",
   "execution_count": 1,
   "metadata": {},
   "outputs": [
    {
     "name": "stdout",
     "output_type": "stream",
     "text": [
      "Academic license - for non-commercial use only - expires 2023-08-31\n",
      "Academic license - for non-commercial use only - expires 2023-08-31\n"
     ]
    }
   ],
   "source": [
    "include(\"test_matrix_completion_disjunctivecuts.jl\")\n",
    "include(\"test_basis_pursuit_disjunctivecuts.jl\")\n",
    "\n",
    "using .TestMatrixCompletionDisjunctiveCuts\n",
    "using .TestBasisPursuitDisjunctiveCuts\n",
    "using StatsBase\n",
    "using Suppressor\n",
    "using CSV\n",
    "using DataFrames"
   ]
  },
  {
   "cell_type": "code",
   "execution_count": 2,
   "metadata": {},
   "outputs": [
    {
     "data": {
      "text/plain": [
       "(Dict{String, Any}(\"X_initial\" => [0.0 0.0 … 0.0 0.0; 0.0 0.0 … 0.0 0.0; … ; 0.0 0.0 … 0.0 0.0; 0.0 0.0 … 0.0 0.0], \"MSE_out\" => 0.010974693376213642, \"objective\" => 39.13653113880996, \"MSE_in\" => 4.547267305544474e-19, \"MSE_in_initial\" => Inf, \"Y_initial\" => [0.0 0.0 … 0.0 0.0; 0.0 0.0 … 0.0 0.0; … ; 0.0 0.0 … 0.0 0.0; 0.0 0.0 … 0.0 0.0], \"objective_initial\" => Inf, \"MSE_all_initial\" => Inf, \"MSE_out_initial\" => Inf, \"MSE_all\" => 0.008779754700970914…), Any[\"Wed, 16 Nov 2022 13:51:38\", \"\\n\", \"Starting branch-and-bound on a (noiseless) basis pursuit problem.\\n\", \"k:                                                            1\\n\", \"m:                                                           10\\n\", \"n:                                                           10\\n\", \"num_indices:                                                 20\\n\", \"\", \"λ:                                                            0\\n\", \"\\n\"  …  \"\\n\\nA:\\n\", \"10×10 Matrix{Float64}:\\n  0.0814442    0.11337     0.134217   0.0736018   -0.000951586   0.154558   -0.001997      0.126439   -0.0218464    0.000708822\\n  1.18427      1.64849     1.95163    1.07023     -0.0138369     2.2474     -0.0290381     1.83853    -0.317664     0.0103069\\n -0.317177    -0.441508   -0.522696  -0.286636     0.00370587   -0.601912    0.00777715   -0.492406    0.0850787   -0.00276045\\n -2.01636     -2.80676    -3.32289   -1.8222       0.023559     -3.82648     0.049441     -3.13033     0.540863    -0.0175487\\n -0.4678      -0.651174   -0.770917  -0.422755     0.00546573   -0.887751    0.0114704    -0.726243    0.125481    -0.00407134\\n -0.00993289  -0.0138265  -0.016369  -0.00897643   0.000116055  -0.0188498   0.000243553  -0.0154205   0.00266437  -8.64476e-5\\n  0.0952791    0.132628    0.157016   0.0861045   -0.00111323    0.180812   -0.00233623    0.147917   -0.0255574    0.000829229\\n  0.481074     0.669652    0.792792   0.434751    -0.00562082    0.912941   -0.0117959     0.74685    -0.129042     0.00418687\\n -0.54979     -0.765304   -0.906033  -0.49685      0.00642369   -1.04334     0.0134808    -0.853529    0.147474    -0.00478491\\n  0.187612     0.261155    0.309178   0.169547    -0.00219204    0.356035   -0.00460023    0.291261   -0.0503246    0.00163282\", \"\\n\\nindices:\\n\", \"10×10 BitMatrix:\\n 0  1  0  0  1  0  0  0  0  0\\n 1  0  0  0  0  0  0  0  0  0\\n 0  1  0  0  1  0  1  0  0  0\\n 0  0  1  0  0  0  0  0  0  0\\n 0  0  0  1  0  0  0  0  0  0\\n 0  1  0  0  0  0  1  0  0  0\\n 1  0  1  0  0  1  0  1  1  1\\n 1  0  0  1  0  0  0  0  0  0\\n 0  1  0  0  0  0  0  0  0  0\\n 0  0  0  0  0  0  0  1  0  0\", \"\\n\\nBest incumbent solution:\\n\", \"39.13653113880996\", \"\\n\\nMSE of sampled entries:\\n\", \"4.547267305544474e-19\", \"\\n\\nMSE of unsampled entries:\\n\", \"0.010974693376213642\"], Dict{Any, Any}(\"run_details\" => OrderedCollections.OrderedDict{String, Any}(\"noise\" => false, \"k\" => 1, \"m\" => 10, \"n\" => 10, \"A\" => [0.08144422568136783 0.11336975931448967 … -0.021846359484841954 0.000708822226379885; 1.1842676535745127 1.6484918080618807 … -0.3176644712355324 0.010306872314318137; … ; -0.549790076278702 -0.7653037167430599 … 0.14747407255823375 -0.0047849116699084735; 0.18761236589293045 0.26115502465350815 … -0.05032458906459119 0.0016328206668560366], \"indices\" => Bool[0 1 … 0 0; 1 0 … 0 0; … ; 0 1 … 0 0; 0 0 … 0 0], \"num_indices\" => 20, \"γ\" => 1.0, \"λ\" => 0.0, \"node_selection\" => \"bestfirst\"…), \"run_log\" => \u001b[1m4×6 DataFrame\u001b[0m\n",
       "\u001b[1m Row \u001b[0m│\u001b[1m explored \u001b[0m\u001b[1m total \u001b[0m\u001b[1m lower   \u001b[0m\u001b[1m upper    \u001b[0m\u001b[1m gap          \u001b[0m\u001b[1m runtime \u001b[0m\n",
       "\u001b[1m     \u001b[0m│\u001b[90m Int64    \u001b[0m\u001b[90m Int64 \u001b[0m\u001b[90m Float64 \u001b[0m\u001b[90m Float64  \u001b[0m\u001b[90m Float64      \u001b[0m\u001b[90m Float64 \u001b[0m\n",
       "─────┼───────────────────────────────────────────────────────────\n",
       "   1 │        1      3  39.1365  Inf       Inf            14.939\n",
       "   2 │       17     35  39.1365  Inf       Inf            16.506\n",
       "   3 │       63    125  39.1365   39.1365    1.39544e-6   17.724\n",
       "   4 │       63    125  39.1365   39.1365    1.39544e-6   17.724))"
      ]
     },
     "execution_count": 2,
     "metadata": {},
     "output_type": "execute_result"
    }
   ],
   "source": [
    "# A basis pursuit example\n",
    "k = 1\n",
    "n = 10\n",
    "n_indices = Int(round(2 * n * log10(n)))\n",
    "seed = 0\n",
    "r = @suppress test_basis_pursuit_disjunctivecuts(\n",
    "    k, n, n, n_indices, seed;\n",
    "    node_selection = \"bestfirst\",\n",
    "    disjunctive_cuts_type = \"linear\",\n",
    "    disjunctive_cuts_breakpoints = \"smallest_1_eigvec\",\n",
    "    disjunctive_slices = false, # This is the new idea we discussed\n",
    "    presolve = true,\n",
    "    add_Shor_valid_inequalities = false,\n",
    "    root_only = true, # Toggle these depending on whether you want only root node exploration or not\n",
    "    use_max_steps = true, # Toggle this to remove the hard cap on nodes explored\n",
    "    max_steps = 10000,\n",
    "    time_limit = 60, # Tune this depending on how long you want it to run\n",
    "    with_log = true, # toggles saving a log file\n",
    ")"
   ]
  },
  {
   "cell_type": "code",
   "execution_count": null,
   "metadata": {},
   "outputs": [],
   "source": [
    "# A matrix completion example\n",
    "k = 1\n",
    "n = 10\n",
    "n_indices = Int(round(2 * n * log10(n)))\n",
    "seed = 0\n",
    "noise = 0.01\n",
    "γ = 20.0\n",
    "r = @suppress test_matrix_completion_disjunctivecuts(\n",
    "    k, n, n, n_indices, seed, noise, γ;\n",
    "    node_selection = \"bestfirst\",\n",
    "    disjunctive_cuts_type = \"linear\",\n",
    "    disjunctive_cuts_breakpoints = \"smallest_1_eigvec\",\n",
    "    disjunctive_slices = false, # This is the new idea we discussed\n",
    "    add_Shor_valid_inequalities = false,\n",
    "    root_only = true, # Toggle these depending on whether you want only root node exploration or not\n",
    "    use_max_steps = true, # Toggle this to remove the hard cap on nodes explored\n",
    "    max_steps = 10000,\n",
    "    time_limit = 60, # Tune this depending on how long you want it to run\n",
    "    with_log = true, # toggles saving a log file\n",
    ")"
   ]
  }
 ],
 "metadata": {
  "kernelspec": {
   "display_name": "Julia 1.7.2",
   "language": "julia",
   "name": "julia-1.7"
  },
  "language_info": {
   "file_extension": ".jl",
   "mimetype": "application/julia",
   "name": "julia",
   "version": "1.7.2"
  },
  "orig_nbformat": 4,
  "vscode": {
   "interpreter": {
    "hash": "11938c6bc6919ae2720b4d5011047913343b08a43b18698fd82dedb0d4417594"
   }
  }
 },
 "nbformat": 4,
 "nbformat_minor": 2
}
